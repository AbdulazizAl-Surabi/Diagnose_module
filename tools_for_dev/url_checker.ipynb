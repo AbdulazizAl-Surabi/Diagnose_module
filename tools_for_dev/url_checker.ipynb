{
 "cells": [
  {
   "cell_type": "code",
   "execution_count": 1,
   "metadata": {},
   "outputs": [
    {
     "name": "stdout",
     "output_type": "stream",
     "text": [
      "Felder im Redis-Hash-Schlüssel:\n",
      "https://www.cardinalhealth.com/en.html\n",
      "https://www.gm.com/\n",
      "https://www.disney.com/\n",
      "https://www.progressive.com/\n",
      "https://www.marathonpetroleum.com/\n",
      "https://www.arista.com/\n",
      "https://www.cencora.com/\n",
      "https://corporate.comcast.com/company\n",
      "https://www.eon.com/en.html\n",
      "https://www.activision.com/\n",
      "https://www.eni.com/en-IT/home.html\n",
      "http://albertsonscompanies.com/\n",
      "http://mysql.com/\n",
      "https://www.berkshirehathaway.com/\n",
      "https://www.engie.com\n",
      "https://www.carrefour.com/en\n",
      "https://www.cox.com/residential/home.html\n",
      "https://www.tesla.com/\n",
      "https://www.hsbc.com/\n"
     ]
    }
   ],
   "source": [
    "import redis\n",
    "\n",
    "# Verbindung zum Redis-Server herstellen\n",
    "redis_client = redis.StrictRedis(host='9.59.199.189', port=6379, decode_responses=True)\n",
    "\n",
    "# Der Schlüssel, dessen Felder du abrufen möchtest\n",
    "key = 'diagnosis:6a70fa43-3d37-497a-9138-3ce191798443'\n",
    "\n",
    "try:\n",
    "    # Alle Felder des Hash-Schlüssels abrufen (ohne die Werte)\n",
    "    fields = redis_client.hkeys(key)\n",
    "\n",
    "    # Die Felder ausgeben\n",
    "    print(\"Felder im Redis-Hash-Schlüssel:\")\n",
    "    for field in fields:\n",
    "        print(field)\n",
    "\n",
    "except redis.ConnectionError as e:\n",
    "    print(f\"Verbindung zu Redis fehlgeschlagen: {e}\")\n"
   ]
  },
  {
   "cell_type": "code",
   "execution_count": null,
   "metadata": {},
   "outputs": [],
   "source": []
  }
 ],
 "metadata": {
  "kernelspec": {
   "display_name": "DS101_DV-Ovqw0MVx",
   "language": "python",
   "name": "python3"
  },
  "language_info": {
   "codemirror_mode": {
    "name": "ipython",
    "version": 3
   },
   "file_extension": ".py",
   "mimetype": "text/x-python",
   "name": "python",
   "nbconvert_exporter": "python",
   "pygments_lexer": "ipython3",
   "version": "3.11.2"
  }
 },
 "nbformat": 4,
 "nbformat_minor": 2
}
